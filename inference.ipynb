{
 "cells": [
  {
   "cell_type": "code",
   "execution_count": 4,
   "metadata": {},
   "outputs": [],
   "source": [
    "import os\n",
    "import torch\n",
    "import numpy as np\n",
    "from plyfile import PlyData, PlyElement\n",
    "\n",
    "from mast3r.model import AsymmetricMASt3R\n",
    "\n",
    "import mast3r.utils.path_to_dust3r\n",
    "from dust3r.inference import inference\n",
    "from dust3r.utils.image import load_images\n",
    "from dust3r.image_pairs import make_pairs\n",
    "from dust3r.cloud_opt import global_aligner, GlobalAlignerMode\n",
    "from dust3r.demo import get_3D_model_from_scene\n",
    "from dust3r.utils.device import to_numpy"
   ]
  },
  {
   "cell_type": "code",
   "execution_count": null,
   "metadata": {},
   "outputs": [],
   "source": [
    "# 데이터 설정\n",
    "target_data = \"scan114\"\n",
    "# source_path = f\"/home/airlabs/Dataset/LLFF/llff_8/{target_data}\"\n",
    "source_path = f'/home/airlabs/Dataset/DTU/dtu_4/{target_data}'"
   ]
  },
  {
   "cell_type": "code",
   "execution_count": null,
   "metadata": {},
   "outputs": [],
   "source": [
    "device = 'cuda'\n",
    "schedule = 'cosine'\n",
    "lr = 0.01\n",
    "niter = 300\n",
    "\n",
    "model_name = \"naver/MASt3R_ViTLarge_BaseDecoder_512_catmlpdpt_metric\"\n",
    "model = AsymmetricMASt3R.from_pretrained(model_name).to(device)\n",
    "\n",
    "# Set Path\n",
    "input3_path = os.path.join(source_path, '3')\n",
    "output_path = os.path.join(source_path, \"dust3r\")"
   ]
  },
  {
   "cell_type": "code",
   "execution_count": null,
   "metadata": {},
   "outputs": [],
   "source": [
    "images = load_images(source_path, size=512)\n",
    "pairs = make_pairs(images, scene_graph='oneref-0', prefilter=None, symmetrize=True)\n",
    "output = inference(pairs, model, device, batch_size=1)"
   ]
  },
  {
   "cell_type": "markdown",
   "metadata": {},
   "source": [
    "## PLY 최적화"
   ]
  },
  {
   "cell_type": "code",
   "execution_count": 1,
   "metadata": {},
   "outputs": [
    {
     "name": "stdout",
     "output_type": "stream",
     "text": [
      "Jupyter environment detected. Enabling Open3D WebVisualizer.\n",
      "[Open3D INFO] WebRTC GUI backend enabled.\n",
      "[Open3D INFO] WebRTCWindowSystem: HTTP handshake server disabled.\n"
     ]
    }
   ],
   "source": [
    "import open3d as o3d\n",
    "ply_path = \"/home/airlabs/Dataset/DTU/dtu_4/scan82/dust3r_test/ply/output.ply\""
   ]
  },
  {
   "cell_type": "code",
   "execution_count": 2,
   "metadata": {},
   "outputs": [],
   "source": [
    "pcd = o3d.io.read_point_cloud(ply_path)"
   ]
  },
  {
   "cell_type": "code",
   "execution_count": 3,
   "metadata": {},
   "outputs": [],
   "source": [
    "pcd = o3d.io.read_point_cloud(ply_path)\n",
    "cl, ind = pcd.remove_radius_outlier(nb_points=16, radius=0.05)\n",
    "pcd_radius = pcd.select_by_index(ind)    \n",
    "cl, ind = pcd_radius.remove_statistical_outlier(nb_neighbors=20, std_ratio=2.0)\n",
    "pcd_statistical = pcd_radius.select_by_index(ind)"
   ]
  },
  {
   "cell_type": "code",
   "execution_count": null,
   "metadata": {},
   "outputs": [],
   "source": [
    "o3d.visualization.draw_geometries([pcd_radius])"
   ]
  }
 ],
 "metadata": {
  "kernelspec": {
   "display_name": "mast3r",
   "language": "python",
   "name": "python3"
  },
  "language_info": {
   "codemirror_mode": {
    "name": "ipython",
    "version": 3
   },
   "file_extension": ".py",
   "mimetype": "text/x-python",
   "name": "python",
   "nbconvert_exporter": "python",
   "pygments_lexer": "ipython3",
   "version": "3.11.11"
  }
 },
 "nbformat": 4,
 "nbformat_minor": 2
}
